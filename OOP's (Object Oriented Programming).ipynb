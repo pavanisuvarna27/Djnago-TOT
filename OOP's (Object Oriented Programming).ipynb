{
 "cells": [
  {
   "cell_type": "markdown",
   "metadata": {},
   "source": [
    "## Object-Oriented Programming:\n",
    "- Classes\n",
    "- Objects\n",
    "- Constructors\n",
    "- inheritence\n",
    "- Python Packages and modules using oop's."
   ]
  },
  {
   "cell_type": "code",
   "execution_count": null,
   "metadata": {},
   "outputs": [],
   "source": [
    "- python is an object oriented programming language."
   ]
  },
  {
   "cell_type": "code",
   "execution_count": null,
   "metadata": {},
   "outputs": [],
   "source": [
    "# class:\n",
    "- class is a collection of objects\n",
    "- class is a collection of variables and methods\n",
    "- class is a design(blueprint)\n",
    "# function:is a collection of statements\n",
    "# method:if function is existed inside the class then it called as method\n",
    "#syn:\n",
    "class class_name:\n",
    "    list of variables\n",
    "    list of methods\n",
    "    \n",
    "class---->keyword\n",
    "class_name---->name of the class"
   ]
  },
  {
   "cell_type": "code",
   "execution_count": null,
   "metadata": {},
   "outputs": [],
   "source": []
  },
  {
   "cell_type": "code",
   "execution_count": 2,
   "metadata": {},
   "outputs": [],
   "source": [
    "class Hii:\n",
    "    a=34.67\n",
    "    b='python'\n",
    "    def hello(): #method\n",
    "        print(\"iam a method\")"
   ]
  },
  {
   "cell_type": "code",
   "execution_count": 3,
   "metadata": {},
   "outputs": [
    {
     "data": {
      "text/plain": [
       "34.67"
      ]
     },
     "execution_count": 3,
     "metadata": {},
     "output_type": "execute_result"
    }
   ],
   "source": [
    "Hii.a  #'.' is a massage calling operators,Hii is a classname"
   ]
  },
  {
   "cell_type": "code",
   "execution_count": 4,
   "metadata": {},
   "outputs": [
    {
     "data": {
      "text/plain": [
       "'python'"
      ]
     },
     "execution_count": 4,
     "metadata": {},
     "output_type": "execute_result"
    }
   ],
   "source": [
    "Hii.b"
   ]
  },
  {
   "cell_type": "code",
   "execution_count": 6,
   "metadata": {},
   "outputs": [
    {
     "name": "stdout",
     "output_type": "stream",
     "text": [
      "iam a method\n"
     ]
    }
   ],
   "source": [
    "Hii.hello()"
   ]
  },
  {
   "cell_type": "code",
   "execution_count": null,
   "metadata": {},
   "outputs": [],
   "source": []
  },
  {
   "cell_type": "code",
   "execution_count": null,
   "metadata": {},
   "outputs": [],
   "source": [
    "# object :\n",
    "- object is a instance of a class(sample copy of a class)\n",
    "- every object will have certain attributes and behaviour.\n",
    "ex:human\n",
    "    (height,name,age)--->attributes--->variables\n",
    "    (dancing,talking,walking)--->behaviour--->methods\n",
    "- object is a real time entity\n",
    "# syn:\n",
    "obj_name=class_name()"
   ]
  },
  {
   "cell_type": "code",
   "execution_count": 7,
   "metadata": {},
   "outputs": [],
   "source": [
    "class Hii:\n",
    "    a=34.67\n",
    "    b='python'\n",
    "    def hello(): #method\n",
    "        print(\"iam a method\")"
   ]
  },
  {
   "cell_type": "code",
   "execution_count": 18,
   "metadata": {},
   "outputs": [
    {
     "name": "stdout",
     "output_type": "stream",
     "text": [
      "34.67\n",
      "python\n",
      "iam a method\n"
     ]
    }
   ],
   "source": [
    "obj1=Hii\n",
    "#print(obj1)\n",
    "#print(dir(obj1))\n",
    "print(obj1.a)\n",
    "print(obj1.b)\n",
    "obj1.hello()"
   ]
  },
  {
   "cell_type": "code",
   "execution_count": null,
   "metadata": {},
   "outputs": [],
   "source": [
    "- we can create only one class\n",
    "- we can create multiple objects"
   ]
  },
  {
   "cell_type": "code",
   "execution_count": 19,
   "metadata": {},
   "outputs": [
    {
     "name": "stdout",
     "output_type": "stream",
     "text": [
      "34.67\n",
      "python\n",
      "iam a method\n"
     ]
    }
   ],
   "source": [
    "obj2=Hii\n",
    "#print(obj1)\n",
    "#print(dir(obj1))\n",
    "print(obj2.a)\n",
    "print(obj2.b)\n",
    "obj2.hello()"
   ]
  },
  {
   "cell_type": "code",
   "execution_count": 28,
   "metadata": {},
   "outputs": [
    {
     "name": "stdout",
     "output_type": "stream",
     "text": [
      "34.67\n",
      "python\n",
      "iam a method\n"
     ]
    }
   ],
   "source": [
    "obj2=Hii\n",
    "#print(obj1)\n",
    "#print(dir(obj1))\n",
    "print(obj2.a)\n",
    "print(obj2.b)\n",
    "obj2.hello()"
   ]
  },
  {
   "cell_type": "code",
   "execution_count": 20,
   "metadata": {},
   "outputs": [
    {
     "name": "stdout",
     "output_type": "stream",
     "text": [
      "2158241497432\n",
      "2158241497432\n"
     ]
    }
   ],
   "source": [
    "print(id(obj1))\n",
    "print(id(obj2))"
   ]
  },
  {
   "cell_type": "code",
   "execution_count": 24,
   "metadata": {},
   "outputs": [
    {
     "name": "stdout",
     "output_type": "stream",
     "text": [
      "2158250530744\n",
      "2158250531752\n"
     ]
    }
   ],
   "source": [
    "class com:\n",
    "    pass\n",
    "c1=com()\n",
    "c2=com()\n",
    "print(id(c1))\n",
    "print(id(c2))"
   ]
  },
  {
   "cell_type": "code",
   "execution_count": 25,
   "metadata": {},
   "outputs": [
    {
     "name": "stdout",
     "output_type": "stream",
     "text": [
      "2158241499320\n",
      "2158241499320\n"
     ]
    }
   ],
   "source": [
    "class com:\n",
    "    pass\n",
    "c1=com\n",
    "c2=com\n",
    "print(id(c1))\n",
    "print(id(c2))"
   ]
  },
  {
   "cell_type": "code",
   "execution_count": 22,
   "metadata": {},
   "outputs": [],
   "source": [
    "class Calsi:\n",
    "    def add(a,b):\n",
    "        return a+b\n",
    "    def sub(a,b):\n",
    "        return a-b\n",
    "    def mul(a,b):\n",
    "        return a*b\n",
    "    def div(a,b):\n",
    "        return a/b\n",
    "    def mod(a,b):\n",
    "        return a%b"
   ]
  },
  {
   "cell_type": "code",
   "execution_count": null,
   "metadata": {},
   "outputs": [],
   "source": []
  },
  {
   "cell_type": "code",
   "execution_count": 31,
   "metadata": {},
   "outputs": [
    {
     "name": "stdout",
     "output_type": "stream",
     "text": [
      "30\n",
      "-10\n",
      "200\n",
      "0.5\n",
      "10\n"
     ]
    }
   ],
   "source": [
    "cal=Calsi\n",
    "print(cal.add(10,20))\n",
    "print(cal.sub(10,20))\n",
    "print(cal.mul(10,20))\n",
    "print(cal.div(10,20))\n",
    "print(cal.mod(10,20))"
   ]
  },
  {
   "cell_type": "code",
   "execution_count": 32,
   "metadata": {},
   "outputs": [
    {
     "ename": "TypeError",
     "evalue": "add() takes 2 positional arguments but 3 were given",
     "output_type": "error",
     "traceback": [
      "\u001b[1;31m---------------------------------------------------------------------------\u001b[0m",
      "\u001b[1;31mTypeError\u001b[0m                                 Traceback (most recent call last)",
      "\u001b[1;32m<ipython-input-32-28fc53944347>\u001b[0m in \u001b[0;36m<module>\u001b[1;34m\u001b[0m\n\u001b[0;32m      1\u001b[0m \u001b[0mcal\u001b[0m\u001b[1;33m=\u001b[0m\u001b[0mCalsi\u001b[0m\u001b[1;33m(\u001b[0m\u001b[1;33m)\u001b[0m\u001b[1;33m\u001b[0m\u001b[1;33m\u001b[0m\u001b[0m\n\u001b[1;32m----> 2\u001b[1;33m \u001b[0mprint\u001b[0m\u001b[1;33m(\u001b[0m\u001b[0mcal\u001b[0m\u001b[1;33m.\u001b[0m\u001b[0madd\u001b[0m\u001b[1;33m(\u001b[0m\u001b[1;36m10\u001b[0m\u001b[1;33m,\u001b[0m\u001b[1;36m20\u001b[0m\u001b[1;33m)\u001b[0m\u001b[1;33m)\u001b[0m\u001b[1;33m\u001b[0m\u001b[1;33m\u001b[0m\u001b[0m\n\u001b[0m\u001b[0;32m      3\u001b[0m \u001b[0mprint\u001b[0m\u001b[1;33m(\u001b[0m\u001b[0mcal\u001b[0m\u001b[1;33m.\u001b[0m\u001b[0msub\u001b[0m\u001b[1;33m(\u001b[0m\u001b[1;36m10\u001b[0m\u001b[1;33m,\u001b[0m\u001b[1;36m20\u001b[0m\u001b[1;33m)\u001b[0m\u001b[1;33m)\u001b[0m\u001b[1;33m\u001b[0m\u001b[1;33m\u001b[0m\u001b[0m\n\u001b[0;32m      4\u001b[0m \u001b[0mprint\u001b[0m\u001b[1;33m(\u001b[0m\u001b[0mcal\u001b[0m\u001b[1;33m.\u001b[0m\u001b[0mmul\u001b[0m\u001b[1;33m(\u001b[0m\u001b[1;36m10\u001b[0m\u001b[1;33m,\u001b[0m\u001b[1;36m20\u001b[0m\u001b[1;33m)\u001b[0m\u001b[1;33m)\u001b[0m\u001b[1;33m\u001b[0m\u001b[1;33m\u001b[0m\u001b[0m\n\u001b[0;32m      5\u001b[0m \u001b[0mprint\u001b[0m\u001b[1;33m(\u001b[0m\u001b[0mcal\u001b[0m\u001b[1;33m.\u001b[0m\u001b[0mdiv\u001b[0m\u001b[1;33m(\u001b[0m\u001b[1;36m10\u001b[0m\u001b[1;33m,\u001b[0m\u001b[1;36m20\u001b[0m\u001b[1;33m)\u001b[0m\u001b[1;33m)\u001b[0m\u001b[1;33m\u001b[0m\u001b[1;33m\u001b[0m\u001b[0m\n",
      "\u001b[1;31mTypeError\u001b[0m: add() takes 2 positional arguments but 3 were given"
     ]
    }
   ],
   "source": [
    "cal=Calsi()\n",
    "print(cal.add(10,20))\n",
    "print(cal.sub(10,20))\n",
    "print(cal.mul(10,20))\n",
    "print(cal.div(10,20))\n",
    "print(cal.mod(10,20))"
   ]
  },
  {
   "cell_type": "code",
   "execution_count": 36,
   "metadata": {},
   "outputs": [
    {
     "name": "stdout",
     "output_type": "stream",
     "text": [
      "i5 16gb 1TB\n"
     ]
    }
   ],
   "source": [
    "class Computer:\n",
    "    def config(self): #com1\n",
    "        print(\"i5\",\"16gb\",'1TB')\n",
    "com1=Computer()\n",
    "com1.config()"
   ]
  },
  {
   "cell_type": "code",
   "execution_count": null,
   "metadata": {},
   "outputs": [],
   "source": [
    "class Computer:\n",
    "    def config(self): #com2\n",
    "        print(\"i5\",\"16gb\",'1TB')\n",
    "com2=Computer()\n",
    "com2.config()"
   ]
  },
  {
   "cell_type": "code",
   "execution_count": null,
   "metadata": {},
   "outputs": [],
   "source": []
  },
  {
   "cell_type": "code",
   "execution_count": null,
   "metadata": {},
   "outputs": [],
   "source": [
    "#constructors:\n",
    "- a constructor is a special type of method(function with in a class)\n",
    "- which is used to initialize the instance members of class.\n",
    "- in python for creating constructor we will use __init__(self)\n",
    "- in constructor self parameter finds the current reference object.\n",
    "#syn:\n",
    "class class_name:\n",
    "    def __init__(self):#default parameter\n",
    "        \n",
    "    def __init__(self,a,b):#first variable acts as a default parameter\n",
    "\n",
    "    def __init__(a,b,self):#first variable acts as a default parameter\n",
    "        "
   ]
  },
  {
   "cell_type": "code",
   "execution_count": 40,
   "metadata": {},
   "outputs": [
    {
     "ename": "TypeError",
     "evalue": "config() missing 1 required positional argument: 'self'",
     "output_type": "error",
     "traceback": [
      "\u001b[1;31m---------------------------------------------------------------------------\u001b[0m",
      "\u001b[1;31mTypeError\u001b[0m                                 Traceback (most recent call last)",
      "\u001b[1;32m<ipython-input-40-5feff7b389cf>\u001b[0m in \u001b[0;36m<module>\u001b[1;34m\u001b[0m\n\u001b[0;32m      5\u001b[0m         \u001b[0mprint\u001b[0m\u001b[1;33m(\u001b[0m\u001b[1;34m\"i5\"\u001b[0m\u001b[1;33m,\u001b[0m\u001b[1;34m\"16gb\"\u001b[0m\u001b[1;33m,\u001b[0m\u001b[1;34m\"1TB\"\u001b[0m\u001b[1;33m)\u001b[0m\u001b[1;33m\u001b[0m\u001b[1;33m\u001b[0m\u001b[0m\n\u001b[0;32m      6\u001b[0m \u001b[0mcom1\u001b[0m\u001b[1;33m=\u001b[0m\u001b[0mCom\u001b[0m\u001b[1;33m\u001b[0m\u001b[1;33m\u001b[0m\u001b[0m\n\u001b[1;32m----> 7\u001b[1;33m \u001b[0mcom1\u001b[0m\u001b[1;33m.\u001b[0m\u001b[0mconfig\u001b[0m\u001b[1;33m(\u001b[0m\u001b[1;33m)\u001b[0m\u001b[1;33m\u001b[0m\u001b[1;33m\u001b[0m\u001b[0m\n\u001b[0m",
      "\u001b[1;31mTypeError\u001b[0m: config() missing 1 required positional argument: 'self'"
     ]
    }
   ],
   "source": [
    "class Com:\n",
    "    def __init__(self):\n",
    "        print(\"iam init\")\n",
    "    def config(self):\n",
    "        print(\"i5\",\"16gb\",\"1TB\")\n",
    "com1=Com\n",
    "com1.config()"
   ]
  },
  {
   "cell_type": "code",
   "execution_count": 39,
   "metadata": {},
   "outputs": [
    {
     "name": "stdout",
     "output_type": "stream",
     "text": [
      "iam init\n",
      "i5 16gb 1TB\n"
     ]
    }
   ],
   "source": [
    "class Com:\n",
    "    def __init__(self):#com1\n",
    "        print(\"iam init\")\n",
    "    def config(self):\n",
    "        print(\"i5\",\"16gb\",\"1TB\")\n",
    "com1=Com()\n",
    "com1.config()"
   ]
  },
  {
   "cell_type": "code",
   "execution_count": 41,
   "metadata": {},
   "outputs": [],
   "source": [
    "class Com:\n",
    "    def __init__(self):#com1\n",
    "        print(\"iam init\")\n",
    "    def config(self):\n",
    "        print(\"i5\",\"16gb\",\"1TB\")"
   ]
  },
  {
   "cell_type": "code",
   "execution_count": 43,
   "metadata": {
    "scrolled": true
   },
   "outputs": [
    {
     "ename": "TypeError",
     "evalue": "__init__() missing 1 required positional argument: 'self'",
     "output_type": "error",
     "traceback": [
      "\u001b[1;31m---------------------------------------------------------------------------\u001b[0m",
      "\u001b[1;31mTypeError\u001b[0m                                 Traceback (most recent call last)",
      "\u001b[1;32m<ipython-input-43-2c99cee7dc30>\u001b[0m in \u001b[0;36m<module>\u001b[1;34m\u001b[0m\n\u001b[1;32m----> 1\u001b[1;33m \u001b[0mCom\u001b[0m\u001b[1;33m.\u001b[0m\u001b[0m__init__\u001b[0m\u001b[1;33m(\u001b[0m\u001b[1;33m)\u001b[0m\u001b[1;33m\u001b[0m\u001b[1;33m\u001b[0m\u001b[0m\n\u001b[0m",
      "\u001b[1;31mTypeError\u001b[0m: __init__() missing 1 required positional argument: 'self'"
     ]
    }
   ],
   "source": [
    "Com.__init__()"
   ]
  },
  {
   "cell_type": "code",
   "execution_count": 50,
   "metadata": {},
   "outputs": [],
   "source": [
    "class Computer:\n",
    "    def __init__(self,cpu,ram):#obj\n",
    "        print(\"iam init\")\n",
    "    def config(self): #obj\n",
    "        print(\"iam method\")\n",
    "obj=Computer"
   ]
  },
  {
   "cell_type": "code",
   "execution_count": 51,
   "metadata": {},
   "outputs": [
    {
     "ename": "TypeError",
     "evalue": "__init__() missing 2 required positional arguments: 'cpu' and 'ram'",
     "output_type": "error",
     "traceback": [
      "\u001b[1;31m---------------------------------------------------------------------------\u001b[0m",
      "\u001b[1;31mTypeError\u001b[0m                                 Traceback (most recent call last)",
      "\u001b[1;32m<ipython-input-51-b82dbc4bb15f>\u001b[0m in \u001b[0;36m<module>\u001b[1;34m\u001b[0m\n\u001b[0;32m      4\u001b[0m     \u001b[1;32mdef\u001b[0m \u001b[0mconfig\u001b[0m\u001b[1;33m(\u001b[0m\u001b[0mself\u001b[0m\u001b[1;33m)\u001b[0m\u001b[1;33m:\u001b[0m \u001b[1;31m#obj\u001b[0m\u001b[1;33m\u001b[0m\u001b[1;33m\u001b[0m\u001b[0m\n\u001b[0;32m      5\u001b[0m         \u001b[0mprint\u001b[0m\u001b[1;33m(\u001b[0m\u001b[1;34m\"iam method\"\u001b[0m\u001b[1;33m)\u001b[0m\u001b[1;33m\u001b[0m\u001b[1;33m\u001b[0m\u001b[0m\n\u001b[1;32m----> 6\u001b[1;33m \u001b[0mobj\u001b[0m\u001b[1;33m=\u001b[0m\u001b[0mComputer\u001b[0m\u001b[1;33m(\u001b[0m\u001b[1;33m)\u001b[0m\u001b[1;33m\u001b[0m\u001b[1;33m\u001b[0m\u001b[0m\n\u001b[0m",
      "\u001b[1;31mTypeError\u001b[0m: __init__() missing 2 required positional arguments: 'cpu' and 'ram'"
     ]
    }
   ],
   "source": [
    "class Computer:\n",
    "    def __init__(self,cpu,ram):#obj\n",
    "        print(\"iam init\")\n",
    "    def config(self): #obj\n",
    "        print(\"iam method\")\n",
    "obj=Computer()"
   ]
  },
  {
   "cell_type": "code",
   "execution_count": 48,
   "metadata": {},
   "outputs": [
    {
     "name": "stdout",
     "output_type": "stream",
     "text": [
      "iam init\n"
     ]
    }
   ],
   "source": [
    "class Computer:\n",
    "    def __init__(self,cpu,ram):#obj\n",
    "        print(\"iam init\")\n",
    "    def config(self): #obj\n",
    "        print(\"iam method\")\n",
    "obj=Computer(\"i5\",16)"
   ]
  },
  {
   "cell_type": "code",
   "execution_count": 49,
   "metadata": {},
   "outputs": [
    {
     "name": "stdout",
     "output_type": "stream",
     "text": [
      "iam init\n",
      "iam method\n"
     ]
    }
   ],
   "source": [
    "class Computer:\n",
    "    def __init__(self,cpu,ram):#obj\n",
    "        print(\"iam init\")\n",
    "    def config(self):\n",
    "        print(\"iam method\")\n",
    "obj=Computer(\"i5\",16)\n",
    "obj.config()"
   ]
  },
  {
   "cell_type": "code",
   "execution_count": 57,
   "metadata": {},
   "outputs": [
    {
     "name": "stdout",
     "output_type": "stream",
     "text": [
      "config is i5 16\n"
     ]
    }
   ],
   "source": [
    "class Computer:\n",
    "    def __init__(self,cpu,ram):#obj\n",
    "        self.cpu=cpu\n",
    "        self.ram=ram\n",
    "    def config(self):#obj\n",
    "        print(\"config is\",self.cpu,self.ram)\n",
    "obj=Computer(\"i5\",16)\n",
    "obj.config()"
   ]
  },
  {
   "cell_type": "code",
   "execution_count": 58,
   "metadata": {},
   "outputs": [
    {
     "name": "stdout",
     "output_type": "stream",
     "text": [
      "config is ryzan 3 8\n"
     ]
    }
   ],
   "source": [
    "obj1=Computer(\"ryzan 3\",8)\n",
    "obj1.config()"
   ]
  },
  {
   "cell_type": "code",
   "execution_count": 55,
   "metadata": {},
   "outputs": [
    {
     "ename": "TypeError",
     "evalue": "config() takes 0 positional arguments but 1 was given",
     "output_type": "error",
     "traceback": [
      "\u001b[1;31m---------------------------------------------------------------------------\u001b[0m",
      "\u001b[1;31mTypeError\u001b[0m                                 Traceback (most recent call last)",
      "\u001b[1;32m<ipython-input-55-7d01d1750010>\u001b[0m in \u001b[0;36m<module>\u001b[1;34m\u001b[0m\n\u001b[0;32m      6\u001b[0m         \u001b[0mprint\u001b[0m\u001b[1;33m(\u001b[0m\u001b[1;34m\"config is\"\u001b[0m\u001b[1;33m,\u001b[0m\u001b[0mcpu\u001b[0m\u001b[1;33m,\u001b[0m\u001b[0mram\u001b[0m\u001b[1;33m)\u001b[0m\u001b[1;33m\u001b[0m\u001b[1;33m\u001b[0m\u001b[0m\n\u001b[0;32m      7\u001b[0m \u001b[0mobj\u001b[0m\u001b[1;33m=\u001b[0m\u001b[0mComputer\u001b[0m\u001b[1;33m(\u001b[0m\u001b[1;34m\"i5\"\u001b[0m\u001b[1;33m,\u001b[0m\u001b[1;36m16\u001b[0m\u001b[1;33m)\u001b[0m\u001b[1;33m\u001b[0m\u001b[1;33m\u001b[0m\u001b[0m\n\u001b[1;32m----> 8\u001b[1;33m \u001b[0mobj\u001b[0m\u001b[1;33m.\u001b[0m\u001b[0mconfig\u001b[0m\u001b[1;33m(\u001b[0m\u001b[1;33m)\u001b[0m\u001b[1;33m\u001b[0m\u001b[1;33m\u001b[0m\u001b[0m\n\u001b[0m",
      "\u001b[1;31mTypeError\u001b[0m: config() takes 0 positional arguments but 1 was given"
     ]
    }
   ],
   "source": [
    "class Computer:\n",
    "    def __init__(self,cpu,ram):#obj\n",
    "        self.cpu=cpu\n",
    "        self.ram=ram\n",
    "    def config():#obj\n",
    "        print(\"config is\",cpu,ram)\n",
    "obj=Computer(\"i5\",16)\n",
    "obj.config()"
   ]
  },
  {
   "cell_type": "code",
   "execution_count": null,
   "metadata": {},
   "outputs": [],
   "source": []
  },
  {
   "cell_type": "code",
   "execution_count": 59,
   "metadata": {},
   "outputs": [
    {
     "name": "stdout",
     "output_type": "stream",
     "text": [
      "config is 16 i5\n"
     ]
    }
   ],
   "source": [
    "class Computer:\n",
    "    def __init__(cpu,ram,self): #cpu-->self\n",
    "        cpu.ram=ram\n",
    "        cpu.self=self\n",
    "    def config(cpu):#obj\n",
    "        print(\"config is\",cpu.self,cpu.ram)\n",
    "obj=Computer(\"i5\",16)\n",
    "obj.config()"
   ]
  },
  {
   "cell_type": "code",
   "execution_count": 60,
   "metadata": {},
   "outputs": [
    {
     "ename": "TypeError",
     "evalue": "__init__() takes 3 positional arguments but 4 were given",
     "output_type": "error",
     "traceback": [
      "\u001b[1;31m---------------------------------------------------------------------------\u001b[0m",
      "\u001b[1;31mTypeError\u001b[0m                                 Traceback (most recent call last)",
      "\u001b[1;32m<ipython-input-60-dbde6fed0594>\u001b[0m in \u001b[0;36m<module>\u001b[1;34m\u001b[0m\n\u001b[0;32m      5\u001b[0m     \u001b[1;32mdef\u001b[0m \u001b[0mconfig\u001b[0m\u001b[1;33m(\u001b[0m\u001b[0mcpu\u001b[0m\u001b[1;33m)\u001b[0m\u001b[1;33m:\u001b[0m\u001b[1;31m#obj\u001b[0m\u001b[1;33m\u001b[0m\u001b[1;33m\u001b[0m\u001b[0m\n\u001b[0;32m      6\u001b[0m         \u001b[0mprint\u001b[0m\u001b[1;33m(\u001b[0m\u001b[1;34m\"config is\"\u001b[0m\u001b[1;33m,\u001b[0m\u001b[0mcpu\u001b[0m\u001b[1;33m.\u001b[0m\u001b[0mself\u001b[0m\u001b[1;33m,\u001b[0m\u001b[0mcpu\u001b[0m\u001b[1;33m.\u001b[0m\u001b[0mram\u001b[0m\u001b[1;33m)\u001b[0m\u001b[1;33m\u001b[0m\u001b[1;33m\u001b[0m\u001b[0m\n\u001b[1;32m----> 7\u001b[1;33m \u001b[0mobj\u001b[0m\u001b[1;33m=\u001b[0m\u001b[0mComputer\u001b[0m\u001b[1;33m(\u001b[0m\u001b[1;34m\"i5\"\u001b[0m\u001b[1;33m,\u001b[0m\u001b[1;36m16\u001b[0m\u001b[1;33m,\u001b[0m\u001b[1;34m\"python\"\u001b[0m\u001b[1;33m)\u001b[0m\u001b[1;33m\u001b[0m\u001b[1;33m\u001b[0m\u001b[0m\n\u001b[0m\u001b[0;32m      8\u001b[0m \u001b[0mobj\u001b[0m\u001b[1;33m.\u001b[0m\u001b[0mconfig\u001b[0m\u001b[1;33m(\u001b[0m\u001b[1;33m)\u001b[0m\u001b[1;33m\u001b[0m\u001b[1;33m\u001b[0m\u001b[0m\n",
      "\u001b[1;31mTypeError\u001b[0m: __init__() takes 3 positional arguments but 4 were given"
     ]
    }
   ],
   "source": [
    "class Computer:\n",
    "    def __init__(cpu,ram,self): #cpu-->self\n",
    "        cpu.ram=ram\n",
    "        cpu.self=self\n",
    "    def config(cpu):#obj\n",
    "        print(\"config is\",cpu.self,cpu.ram)\n",
    "obj=Computer(\"i5\",16,\"python\")\n",
    "obj.config()"
   ]
  },
  {
   "cell_type": "code",
   "execution_count": 62,
   "metadata": {},
   "outputs": [
    {
     "ename": "TypeError",
     "evalue": "config() missing 1 required positional argument: 'name'",
     "output_type": "error",
     "traceback": [
      "\u001b[1;31m---------------------------------------------------------------------------\u001b[0m",
      "\u001b[1;31mTypeError\u001b[0m                                 Traceback (most recent call last)",
      "\u001b[1;32m<ipython-input-62-fb31ced087a4>\u001b[0m in \u001b[0;36m<module>\u001b[1;34m\u001b[0m\n\u001b[0;32m      6\u001b[0m         \u001b[0mprint\u001b[0m\u001b[1;33m(\u001b[0m\u001b[1;34m\"config is\"\u001b[0m\u001b[1;33m,\u001b[0m\u001b[0mcpu\u001b[0m\u001b[1;33m.\u001b[0m\u001b[0mself\u001b[0m\u001b[1;33m,\u001b[0m\u001b[0mcpu\u001b[0m\u001b[1;33m.\u001b[0m\u001b[0mram\u001b[0m\u001b[1;33m,\u001b[0m\u001b[0mname\u001b[0m\u001b[1;33m)\u001b[0m\u001b[1;33m\u001b[0m\u001b[1;33m\u001b[0m\u001b[0m\n\u001b[0;32m      7\u001b[0m \u001b[0mobj\u001b[0m\u001b[1;33m=\u001b[0m\u001b[0mComputer\u001b[0m\u001b[1;33m(\u001b[0m\u001b[1;34m\"i5\"\u001b[0m\u001b[1;33m,\u001b[0m\u001b[1;36m16\u001b[0m\u001b[1;33m)\u001b[0m\u001b[1;33m\u001b[0m\u001b[1;33m\u001b[0m\u001b[0m\n\u001b[1;32m----> 8\u001b[1;33m \u001b[0mobj\u001b[0m\u001b[1;33m.\u001b[0m\u001b[0mconfig\u001b[0m\u001b[1;33m(\u001b[0m\u001b[1;33m)\u001b[0m\u001b[1;33m\u001b[0m\u001b[1;33m\u001b[0m\u001b[0m\n\u001b[0m",
      "\u001b[1;31mTypeError\u001b[0m: config() missing 1 required positional argument: 'name'"
     ]
    }
   ],
   "source": [
    "class Computer:\n",
    "    def __init__(cpu,ram,self): #cpu-->self\n",
    "        cpu.ram=ram\n",
    "        cpu.self=self\n",
    "    def config(cpu,name):#obj\n",
    "        print(\"config is\",cpu.self,cpu.ram,name)\n",
    "obj=Computer(\"i5\",16)\n",
    "obj.config()"
   ]
  },
  {
   "cell_type": "code",
   "execution_count": 63,
   "metadata": {},
   "outputs": [
    {
     "name": "stdout",
     "output_type": "stream",
     "text": [
      "config is 16 i5 pavani\n"
     ]
    }
   ],
   "source": [
    "class Computer:\n",
    "    def __init__(cpu,ram,self): #cpu-->self\n",
    "        cpu.ram=ram\n",
    "        cpu.self=self\n",
    "    def config(cpu,name):#obj\n",
    "        print(\"config is\",cpu.self,cpu.ram,name)\n",
    "obj=Computer(\"i5\",16)\n",
    "obj.config(\"pavani\")"
   ]
  },
  {
   "cell_type": "code",
   "execution_count": null,
   "metadata": {},
   "outputs": [],
   "source": []
  },
  {
   "cell_type": "code",
   "execution_count": 64,
   "metadata": {},
   "outputs": [],
   "source": [
    "class Math:\n",
    "    def __init__(abc,v1,v2): #abc--->m\n",
    "        abc.v1=v1\n",
    "        abc.v2=v2\n",
    "    def show(abc): #abc--->m\n",
    "        print(abc.v1)\n",
    "        print(abc.v2)\n",
    "    def add(abc,v3):#abc---->m\n",
    "        print(abc.v1+abc.v2+v3)\n",
    "m=Math(5,6)"
   ]
  },
  {
   "cell_type": "code",
   "execution_count": 65,
   "metadata": {},
   "outputs": [
    {
     "name": "stdout",
     "output_type": "stream",
     "text": [
      "5\n",
      "6\n"
     ]
    }
   ],
   "source": [
    "m.show()"
   ]
  },
  {
   "cell_type": "code",
   "execution_count": 66,
   "metadata": {},
   "outputs": [
    {
     "name": "stdout",
     "output_type": "stream",
     "text": [
      "18\n"
     ]
    }
   ],
   "source": [
    "m.add(7)"
   ]
  },
  {
   "cell_type": "code",
   "execution_count": null,
   "metadata": {},
   "outputs": [],
   "source": []
  },
  {
   "cell_type": "code",
   "execution_count": null,
   "metadata": {},
   "outputs": [],
   "source": [
    "# inheritance:\n",
    "- we can create  a class which uses all the properties and behaviour of another class\n",
    "- new class is called as child,derived class,sub class\n",
    "- and the one whose properties are acquired is known as  base class,parent class,super class\n",
    "- re usability  of the code\n",
    "\n",
    "A class--->parent\n",
    "B class--->child\n",
    "\n",
    "#syn for parent:\n",
    "class parent_class():\n",
    "    \n",
    "#syn for child:\n",
    "class childclass(parentclass):\n",
    "    \n",
    "#types of inheritances:\n",
    "1)single inheritance\n",
    "2)multiple\n",
    "3)multi level\n",
    "4)hierarchical\n",
    "5)hybrid"
   ]
  },
  {
   "cell_type": "code",
   "execution_count": null,
   "metadata": {},
   "outputs": [],
   "source": []
  },
  {
   "cell_type": "code",
   "execution_count": 67,
   "metadata": {},
   "outputs": [],
   "source": [
    "# single inheritance(one parent,one child)\n",
    "class parent():\n",
    "    a,b=10,45\n",
    "    def display():\n",
    "        print(\"iam from parent class\")\n",
    "        \n",
    "class child(parent):\n",
    "    c,d=23,67\n",
    "    def show():\n",
    "        print(\"iam from child\")"
   ]
  },
  {
   "cell_type": "code",
   "execution_count": 71,
   "metadata": {},
   "outputs": [
    {
     "name": "stdout",
     "output_type": "stream",
     "text": [
      "10\n",
      "45\n",
      "iam from parent class\n",
      "None\n"
     ]
    },
    {
     "ename": "AttributeError",
     "evalue": "type object 'parent' has no attribute 'c'",
     "output_type": "error",
     "traceback": [
      "\u001b[1;31m---------------------------------------------------------------------------\u001b[0m",
      "\u001b[1;31mAttributeError\u001b[0m                            Traceback (most recent call last)",
      "\u001b[1;32m<ipython-input-71-872d1333be56>\u001b[0m in \u001b[0;36m<module>\u001b[1;34m\u001b[0m\n\u001b[0;32m      3\u001b[0m \u001b[0mprint\u001b[0m\u001b[1;33m(\u001b[0m\u001b[0mobj\u001b[0m\u001b[1;33m.\u001b[0m\u001b[0mb\u001b[0m\u001b[1;33m)\u001b[0m\u001b[1;33m\u001b[0m\u001b[1;33m\u001b[0m\u001b[0m\n\u001b[0;32m      4\u001b[0m \u001b[0mprint\u001b[0m\u001b[1;33m(\u001b[0m\u001b[0mobj\u001b[0m\u001b[1;33m.\u001b[0m\u001b[0mdisplay\u001b[0m\u001b[1;33m(\u001b[0m\u001b[1;33m)\u001b[0m\u001b[1;33m)\u001b[0m\u001b[1;33m\u001b[0m\u001b[1;33m\u001b[0m\u001b[0m\n\u001b[1;32m----> 5\u001b[1;33m \u001b[0mprint\u001b[0m\u001b[1;33m(\u001b[0m\u001b[0mobj\u001b[0m\u001b[1;33m.\u001b[0m\u001b[0mc\u001b[0m\u001b[1;33m)\u001b[0m\u001b[1;33m\u001b[0m\u001b[1;33m\u001b[0m\u001b[0m\n\u001b[0m\u001b[0;32m      6\u001b[0m \u001b[0mprint\u001b[0m\u001b[1;33m(\u001b[0m\u001b[0mobj\u001b[0m\u001b[1;33m.\u001b[0m\u001b[0md\u001b[0m\u001b[1;33m)\u001b[0m\u001b[1;33m\u001b[0m\u001b[1;33m\u001b[0m\u001b[0m\n\u001b[0;32m      7\u001b[0m \u001b[0mprint\u001b[0m\u001b[1;33m(\u001b[0m\u001b[0mobj\u001b[0m\u001b[1;33m.\u001b[0m\u001b[0mshow\u001b[0m\u001b[1;33m(\u001b[0m\u001b[1;33m)\u001b[0m\u001b[1;33m)\u001b[0m\u001b[1;33m\u001b[0m\u001b[1;33m\u001b[0m\u001b[0m\n",
      "\u001b[1;31mAttributeError\u001b[0m: type object 'parent' has no attribute 'c'"
     ]
    }
   ],
   "source": [
    "obj=parent\n",
    "print(obj.a)\n",
    "print(obj.b)\n",
    "print(obj.display())\n",
    "print(obj.c)\n",
    "print(obj.d)\n",
    "print(obj.show())"
   ]
  },
  {
   "cell_type": "code",
   "execution_count": 72,
   "metadata": {},
   "outputs": [
    {
     "name": "stdout",
     "output_type": "stream",
     "text": [
      "10\n",
      "45\n",
      "iam from parent class\n",
      "None\n",
      "23\n",
      "67\n",
      "iam from child\n",
      "None\n"
     ]
    }
   ],
   "source": [
    "obj=child\n",
    "print(obj.a)\n",
    "print(obj.b)\n",
    "print(obj.display())\n",
    "print(obj.c)\n",
    "print(obj.d)\n",
    "print(obj.show())"
   ]
  },
  {
   "cell_type": "code",
   "execution_count": 73,
   "metadata": {},
   "outputs": [],
   "source": [
    "# multiple inheritance(two parent,one child)\n",
    "class father():\n",
    "    def display1():\n",
    "        print(\"iam from father class\")\n",
    "\n",
    "class mother():\n",
    "    def display2():\n",
    "        print(\"iam from mother class\")\n",
    "        \n",
    "class child(father,mother):\n",
    "    def show():\n",
    "        print(\"iam from child\")"
   ]
  },
  {
   "cell_type": "code",
   "execution_count": 76,
   "metadata": {},
   "outputs": [
    {
     "name": "stdout",
     "output_type": "stream",
     "text": [
      "iam from father class\n",
      "iam from mother class\n",
      "iam from child\n"
     ]
    }
   ],
   "source": [
    "obj1=child\n",
    "obj1.display1()\n",
    "obj1.display2()\n",
    "obj1.show()"
   ]
  },
  {
   "cell_type": "code",
   "execution_count": 1,
   "metadata": {},
   "outputs": [
    {
     "name": "stdout",
     "output_type": "stream",
     "text": [
      "iam from grandfather\n",
      "iam from father\n",
      "iam from son\n"
     ]
    }
   ],
   "source": [
    "# multilevel inheritance:(grandfather--->father--->son)\n",
    "class grandfather:\n",
    "    def hii():\n",
    "        print(\"iam from grandfather\")\n",
    "class father(grandfather):\n",
    "    def hello():\n",
    "        print(\"iam from father\")\n",
    "class son(father):\n",
    "    def show():\n",
    "        print(\"iam from son\")\n",
    "        \n",
    "obj=son\n",
    "obj.hii()\n",
    "obj.hello()\n",
    "obj.show()"
   ]
  },
  {
   "cell_type": "code",
   "execution_count": 2,
   "metadata": {},
   "outputs": [
    {
     "name": "stdout",
     "output_type": "stream",
     "text": [
      "iam from parent\n",
      "iam from child1\n",
      "iam from child2\n"
     ]
    }
   ],
   "source": [
    "#hyrarical inheritance:(one parent,2 childs)\n",
    "class parent:\n",
    "    def hii():\n",
    "        print(\"iam from parent\")\n",
    "class child1(parent):\n",
    "    def hello():\n",
    "        print(\"iam from child1\")\n",
    "class child2(parent):\n",
    "    def show():\n",
    "        print(\"iam from child2\")\n",
    "        \n",
    "obj=child1\n",
    "obj1=child2\n",
    "obj.hii()\n",
    "obj.hello()\n",
    "obj1.show()"
   ]
  },
  {
   "cell_type": "code",
   "execution_count": 3,
   "metadata": {},
   "outputs": [
    {
     "name": "stdout",
     "output_type": "stream",
     "text": [
      "iam from parent1\n",
      "iam from parent 2\n",
      "iam from child(grandfather)\n",
      "iam from father\n",
      "iam from son\n"
     ]
    }
   ],
   "source": [
    "#hybrid inheritance(all inheritance)(multiple and multilevel)\n",
    "# multilevel--->grand father--->father--->son\n",
    "# multiple---->father,mother---->child\n",
    "class parent1:\n",
    "    def hii():\n",
    "        print(\"iam from parent1\")\n",
    "class parent2:\n",
    "    def hello():\n",
    "        print(\"iam from parent 2\")\n",
    "class grandfather(parent1,parent2):\n",
    "    def show():\n",
    "        print(\"iam from child(grandfather)\")\n",
    "class father(grandfather):\n",
    "    def display():\n",
    "        print(\"iam from father\") \n",
    "class son(father):\n",
    "    def apssdc():\n",
    "        print(\"iam from son\") \n",
    "        \n",
    "obj=son\n",
    "obj.hii()\n",
    "obj.hello()\n",
    "obj.show()\n",
    "obj.display()\n",
    "obj.apssdc()"
   ]
  },
  {
   "cell_type": "markdown",
   "metadata": {},
   "source": [
    "### Object-Oriented Programming(continution....):\n",
    "#### Python Packages and modules using oop's:"
   ]
  },
  {
   "cell_type": "code",
   "execution_count": null,
   "metadata": {},
   "outputs": [],
   "source": [
    "-sample.py ----> classes"
   ]
  },
  {
   "cell_type": "code",
   "execution_count": null,
   "metadata": {},
   "outputs": [],
   "source": [
    "# modules:\n",
    "- we will call .py files as a module(.py)\n",
    "- module is a group of functions and classes."
   ]
  },
  {
   "cell_type": "code",
   "execution_count": null,
   "metadata": {},
   "outputs": [],
   "source": [
    "# packages:\n",
    "- it is a folder\n",
    "- collection of modules is called as packages(Folder)"
   ]
  },
  {
   "cell_type": "code",
   "execution_count": null,
   "metadata": {},
   "outputs": [],
   "source": []
  },
  {
   "cell_type": "code",
   "execution_count": 10,
   "metadata": {},
   "outputs": [
    {
     "name": "stdout",
     "output_type": "stream",
     "text": [
      "9\n",
      "-1\n",
      "20\n",
      "0.8\n",
      "4\n"
     ]
    }
   ],
   "source": [
    "from packages123.module import Calsi\n",
    "obj=Calsi\n",
    "print(obj.add(4,5))\n",
    "print(obj.sub(4,5))\n",
    "print(obj.mul(4,5))\n",
    "print(obj.div(4,5))\n",
    "print(obj.mod(4,5))"
   ]
  },
  {
   "cell_type": "code",
   "execution_count": 6,
   "metadata": {},
   "outputs": [
    {
     "name": "stdout",
     "output_type": "stream",
     "text": [
      "8\n",
      "16\n",
      "Odd\n",
      "Even\n",
      "34\n",
      "38\n"
     ]
    }
   ],
   "source": [
    "from packages123.module import *\n",
    "obj1=Math\n",
    "print(obj1.power(2,3))\n",
    "print(obj1.power(2,4))\n",
    "print(obj1.isEven(5))\n",
    "print(obj1.isEven(6))\n",
    "\n",
    "obj2=Calsi\n",
    "print(obj2.add(26,8))\n",
    "print(obj2.sub(43,5))"
   ]
  },
  {
   "cell_type": "code",
   "execution_count": 5,
   "metadata": {},
   "outputs": [
    {
     "name": "stdout",
     "output_type": "stream",
     "text": [
      "7\n",
      "10\n"
     ]
    }
   ],
   "source": [
    "from packages123.module import *\n",
    "obj2=Calsi1(2,5)\n",
    "print(obj2.__add__())\n",
    "print(obj2.__mul__())"
   ]
  },
  {
   "cell_type": "code",
   "execution_count": 7,
   "metadata": {},
   "outputs": [
    {
     "name": "stdout",
     "output_type": "stream",
     "text": [
      "table created\n",
      "destructor called,table deleted\n"
     ]
    }
   ],
   "source": [
    "#destructor\n",
    "class table:\n",
    "    def __init__(self):\n",
    "        print(\"table created\")\n",
    "        \n",
    "    def __del__(self):\n",
    "        print(\"destructor called,table deleted\")\n",
    "obj=table()\n",
    "del obj"
   ]
  },
  {
   "cell_type": "code",
   "execution_count": null,
   "metadata": {},
   "outputs": [],
   "source": []
  }
 ],
 "metadata": {
  "kernelspec": {
   "display_name": "Python 3",
   "language": "python",
   "name": "python3"
  },
  "language_info": {
   "codemirror_mode": {
    "name": "ipython",
    "version": 3
   },
   "file_extension": ".py",
   "mimetype": "text/x-python",
   "name": "python",
   "nbconvert_exporter": "python",
   "pygments_lexer": "ipython3",
   "version": "3.7.3"
  }
 },
 "nbformat": 4,
 "nbformat_minor": 2
}
